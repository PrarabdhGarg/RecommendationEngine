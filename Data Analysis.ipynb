{
 "cells": [
  {
   "cell_type": "code",
   "execution_count": 1,
   "metadata": {},
   "outputs": [],
   "source": [
    "import pandas as pd\n",
    "import numpy as np\n",
    "import matplotlib.pyplot as plt\n",
    "import matplotlib.lines as mlines\n",
    "import datetime\n",
    "from operator import add\n",
    "from numpy import where\n",
    "from sklearn.datasets import make_classification\n",
    "from matplotlib import pyplot"
   ]
  },
  {
   "cell_type": "code",
   "execution_count": 2,
   "metadata": {},
   "outputs": [],
   "source": [
    "data = pd.read_csv('ecommerce-data/data.csv', encoding=\"ISO-8859-1\", dtype={'CustomerID': str,'InvoiceID': str})"
   ]
  },
  {
   "cell_type": "code",
   "execution_count": 3,
   "metadata": {},
   "outputs": [],
   "source": [
    "# Drop the rows that don't have and entry for the CustomerId field\n",
    "rows_nan = data[data.isnull().T.any().T]\n",
    "data = data.dropna(subset=[\"CustomerID\"])\n",
    "\n",
    "# Dropping duplicate rows\n",
    "duplicated_data = data[data.duplicated(keep=False)]\n",
    "data.drop_duplicates(inplace=True)"
   ]
  },
  {
   "cell_type": "code",
   "execution_count": 4,
   "metadata": {},
   "outputs": [],
   "source": [
    "# Clean cancelled orders and descounts\n",
    "df_cleaned = data.copy(deep = True)\n",
    "df_cleaned['QuantityCanceled'] = 0\n",
    "\n",
    "entry_to_remove = [] ; doubtfull_entry = []\n",
    "\n",
    "for index, col in  data.iterrows():\n",
    "    if (col['Quantity'] > 0) or col['Description'] == 'Discount': continue        \n",
    "    df_test = data[(data['CustomerID'] == col['CustomerID']) &\n",
    "                         (data['StockCode']  == col['StockCode']) & \n",
    "                         (data['InvoiceDate'] < col['InvoiceDate']) & \n",
    "                         (data['Quantity']   > 0)].copy()\n",
    "    #_________________________________\n",
    "    # Cancelation WITHOUT counterpart\n",
    "    if (df_test.shape[0] == 0): \n",
    "        doubtfull_entry.append(index)\n",
    "    #________________________________\n",
    "    # Cancelation WITH a counterpart\n",
    "    elif (df_test.shape[0] == 1): \n",
    "        index_order = df_test.index[0]\n",
    "        df_cleaned.loc[index_order, 'QuantityCanceled'] = -col['Quantity']\n",
    "        entry_to_remove.append(index)        \n",
    "    #______________________________________________________________\n",
    "    # Various counterparts exist in orders: we delete the last one\n",
    "    elif (df_test.shape[0] > 1): \n",
    "        df_test.sort_index(axis=0 ,ascending=False, inplace = True)        \n",
    "        for ind, val in df_test.iterrows():\n",
    "            if val['Quantity'] < -col['Quantity']: continue\n",
    "            df_cleaned.loc[ind, 'QuantityCanceled'] = -col['Quantity']\n",
    "            entry_to_remove.append(index) \n",
    "            break \n",
    "df_cleaned.drop(entry_to_remove, axis = 0, inplace = True)\n",
    "df_cleaned.drop(doubtfull_entry, axis = 0, inplace = True)\n",
    "remaining_entries = df_cleaned[(df_cleaned['Quantity'] < 0) & (df_cleaned['StockCode'] != 'D')]\n",
    "df_cleaned = df_cleaned[df_cleaned['StockCode']!= 'POST']\n",
    "df_cleaned = df_cleaned[df_cleaned['StockCode']!= 'D']\n",
    "df_cleaned = df_cleaned[df_cleaned['StockCode']!= 'C2']\n",
    "df_cleaned = df_cleaned[df_cleaned['StockCode']!= 'M']\n",
    "df_cleaned = df_cleaned[df_cleaned['StockCode']!= 'BANK CHARGES']\n",
    "df_cleaned = df_cleaned[df_cleaned['StockCode']!= 'PADS']\n",
    "df_cleaned = df_cleaned[df_cleaned['StockCode']!= 'DOT']\n",
    "\n",
    "cleanedData = df_cleaned.copy(deep=True)"
   ]
  },
  {
   "cell_type": "code",
   "execution_count": 5,
   "metadata": {},
   "outputs": [],
   "source": [
    "# Base Assumption: In a general population, majority of the people would be medium-risk takers, while the outliers would \n",
    "# represent either low or high risk takers. The distrbution of people should follow an approximate bell-shaped curve"
   ]
  },
  {
   "cell_type": "code",
   "execution_count": 6,
   "metadata": {
    "scrolled": true
   },
   "outputs": [
    {
     "data": {
      "image/png": "[encoded data removed]",
      "text/plain": [
       "<Figure size 432x288 with 1 Axes>"
      ]
     },
     "metadata": {
      "needs_background": "light"
     },
     "output_type": "display_data"
    }
   ],
   "source": [
    "# Assumption: Consumers buying bulk items togeather are implulsive, and hence have a more risk-taking nature\n",
    "grp = cleanedData.groupby('CustomerID')\n",
    "avgSpending = dict()\n",
    "for index,item in grp:\n",
    "    mean = grp.get_group(index).mean(skipna=True, numeric_only=True) \n",
    "    avgSpending[int(index)] = round(mean['Quantity'] * mean['UnitPrice'])\n",
    "plt.bar(list(avgSpending.keys()), avgSpending.values(), color='g')\n",
    "plt.ylim(0,500)\n",
    "plt.xlim(12000, 18500)\n",
    "plt.xlabel('CustomerID')\n",
    "plt.ylabel('Average Spending per invoice')\n",
    "plt.show()\n",
    "# Conclusion: Most of the bars are small or medium in size, representing low and medium risk-takers respectively\n",
    "# There are some exceptionally tall bars, denoting the high-risk takers. The assumption is further supported by the distrbution\n",
    "# of the bars of various sizes."
   ]
  },
  {
   "cell_type": "code",
   "execution_count": null,
   "metadata": {},
   "outputs": [],
   "source": [
    "# Assumption: Customers with longer duration between purchases have a more risky behaviour as they tend to wait\n",
    "# for the last moment to accomplish stuff\n",
    "dataDict = dict()\n",
    "avgTimeBetweenBuys = {}\n",
    "for index,item in grp:\n",
    "    dates = grp.get_group(index).drop_duplicates(subset=['InvoiceNo'], keep='first')\n",
    "    if len(dates.index > 1):\n",
    "        diff = [datetime.datetime.strptime(dates.iat[i, 4], '%m/%d/%Y %H:%M') - datetime.datetime.strptime(dates.iat[i - 1, 4], '%m/%d/%Y %H:%M') for i in range(len(dates.index)) if i > 0]\n",
    "        diffs = [x.total_seconds() for x in diff]\n",
    "        if len(diffs) > 0:\n",
    "            dataDict[max(diff).total_seconds()] = sum(diffs) / len(diffs)\n",
    "            avgTimeBetweenBuys[int(index)] = sum(diffs) / len(diffs)\n",
    "fig, ax = plt.subplots()\n",
    "ax.scatter(dataDict.keys(), dataDict.values())\n",
    "ax.set_xlabel('Maximum time between consicutive buys')\n",
    "ax.set_ylabel('Average time between consicutive buys')\n",
    "plt.show()\n",
    "# Conclusion: The dots lying at the top-right corner of the plot, as well as to some extent the ones in the bottom-right corner\n",
    "# represent high-risk takers, as they either have a high avg as well as max delay between two invoices(top-right corner), or \n",
    "# a high max delay between two invoices(bottom-right corner)"
   ]
  },
  {
   "cell_type": "code",
   "execution_count": null,
   "metadata": {},
   "outputs": [],
   "source": [
    "# Assumption: Consumers buying the same item over and over again are less risk taking in nature\n",
    "freqDict = dict()\n",
    "for index,item in grp:\n",
    "    invoice_count = grp.get_group(index).duplicated(subset=['InvoiceNo']).sum()\n",
    "    # print(invoice_count)\n",
    "    # data = grp.get_group(index).groupby(by=[\"StockCode\"]).count().sort_values('InvoiceNo', ascending=False)\n",
    "    group = grp.get_group(index)\n",
    "    duplicates = group[group.duplicated(subset=[\"StockCode\"], keep=False)].groupby(by=[\"StockCode\"]).count()['InvoiceNo']\n",
    "    if len(duplicates) > 0:\n",
    "        freqDict[int(index)] = float(invoice_count) / float(sum(duplicates))\n",
    "plt.bar(list(freqDict.keys()), freqDict.values(), color='g')\n",
    "plt.ylim(0,40)\n",
    "plt.xlim(12000, 18500)\n",
    "plt.xlabel('CustomerID')\n",
    "plt.ylabel('1 / Chances of buying same items')\n",
    "plt.show()\n",
    "# Conclusion: Most of the bars are small or medium in size, representing low and medium risk-takers respectively\n",
    "# There are some exceptionally tall bars, denoting the high-risk takers. The assumption is further supported by the distrbution\n",
    "# of the bars of various sizes."
   ]
  },
  {
   "cell_type": "code",
   "execution_count": null,
   "metadata": {},
   "outputs": [],
   "source": [
    "# Assumption: People which buy items with higher unit Prices are probably more risk taking in nature\n",
    "meanUnitPrice = cleanedData['UnitPrice'].mean()\n",
    "maxUnitPrice = cleanedData['UnitPrice'].max()\n",
    "# cleanedData.boxplot(column='UnitPrice')\n",
    "# Let us assume that the products with top 1% unit Prices in the distrbution can be assumed as expensive\n",
    "priceLimit = np.percentile(cleanedData['UnitPrice'], 99)\n",
    "percentageOverspent = dict()\n",
    "for index, item in grp:\n",
    "    uniqueProducts = grp.get_group(index).drop_duplicates(subset=['StockCode'], keep='first')\n",
    "    overspentCount = len(uniqueProducts[uniqueProducts['UnitPrice'] > priceLimit])\n",
    "    if(overspentCount != 0):\n",
    "        percentageOverspent[int(index)] = overspentCount / float(len(uniqueProducts))\n",
    "plt.bar(list(percentageOverspent.keys()), percentageOverspent.values(), color='g')\n",
    "plt.ylim(0,0.35)\n",
    "plt.xlim(12000, 18500)\n",
    "plt.xlabel('CustomerID')\n",
    "plt.ylabel('% of expensive items bought')\n",
    "plt.show()\n",
    "# Conclusion: Most of the bars are small or medium in size, representing low and medium risk-takers respectively\n",
    "# There are some exceptionally tall bars, denoting the high-risk takers. The assumption is further supported by the distrbution\n",
    "# of the bars of various sizes."
   ]
  },
  {
   "cell_type": "code",
   "execution_count": null,
   "metadata": {},
   "outputs": [],
   "source": [
    "# Converting Observations into Probablities\n",
    "# Basic Assumption: Among all the users, around 15% are low-risk takers, 15% are high-risk takers, and the rest 60% of the\n",
    "# people are medium risk takers\n",
    "# Assumption: ALl the 4 parameters calculated above have equal weightage when it comes to determining the final probablity\n",
    "\n",
    "weight = [0.25] * 4\n",
    "user_probablity = {}\n",
    "total_users = len(grp)\n",
    "\n",
    "# Probablities based on average spending\n",
    "limits = np.percentile(list(avgSpending.values()), [15, 85])\n",
    "for key, item in avgSpending.items():\n",
    "    user_probablity[key] = [weight[0] * int(int(item) <= limits[0]), weight[0] * int(int(item) <= limits[1] and int(item) > limits[0]), weight[0] * int(int(item) > limits[1])]\n",
    "\n",
    "# Adding probablities based on longer duration between purchases\n",
    "limits = np.percentile(list(avgTimeBetweenBuys.values()), [15, 85])\n",
    "for key, item in avgTimeBetweenBuys.items():\n",
    "    new_list = [weight[1] * int(int(item) <= limits[0]), weight[1] * int(int(item) <= limits[1] and int(item) > limits[0]), weight[1] * int(int(item) > limits[1])]\n",
    "    if key in user_probablity.keys():\n",
    "        prev_list = user_probablity[key]\n",
    "        user_probablity[key] = [prev_list[i] + new_list[i] for i in range(len(prev_list))]\n",
    "    else:\n",
    "        user_probablity[key] = new_list\n",
    "        \n",
    "# Adding probablities based on buying the same item over and over again\n",
    "limits = np.percentile(list(freqDict.values()), [15, 85])\n",
    "for key, item in freqDict.items():\n",
    "    new_list = [weight[2] * int(int(item) <= limits[0]), weight[2] * int(int(item) <= limits[1] and int(item) > limits[0]), weight[2] * int(int(item) > limits[1])]\n",
    "    if key in user_probablity.keys():\n",
    "        prev_list = user_probablity[key]\n",
    "        user_probablity[key] = [prev_list[i] + new_list[i] for i in range(len(prev_list))]\n",
    "    else:\n",
    "        user_probablity[key] = new_list\n",
    "        \n",
    "# Adding probablities based on big bucket prices\n",
    "limits = np.percentile(list(percentageOverspent.values()), [15, 85])\n",
    "for key, item in percentageOverspent.items():\n",
    "    new_list = [weight[3] * int(int(item) <= limits[0]), weight[3] * int(int(item) <= limits[1] and int(item) > limits[0]), weight[3] * int(int(item) > limits[1])]\n",
    "    if key in user_probablity.keys():\n",
    "        prev_list = user_probablity[key]\n",
    "        user_probablity[key] = [prev_list[i] + new_list[i] for i in range(len(prev_list))]\n",
    "    else:\n",
    "        user_probablity[key] = new_list\n",
    "        \n",
    "for key, item in user_probablity.items():\n",
    "    user_probablity[key] = np.argmax(np.array(user_probablity[key]))\n",
    "\n",
    "high_risk_customer_id = [key for key, item in user_probablity.items() if item == 2]\n",
    "low_risk_customer_id = [key for key, item in user_probablity.items() if item == 0]\n",
    "medium_risk_customer_id = [key for key, item in user_probablity.items() if item == 1]\n",
    "\n",
    "# Display a pie-chart corrosponding to the % of users\n",
    "labels = 'Low-Risk', 'Medium-Risk', 'High-Risk'\n",
    "sizes = [(len(low_risk_customer_id) * 100) / total_users, (len(medium_risk_customer_id) * 100) / total_users, (len(high_risk_customer_id) * 100) / total_users]\n",
    "explode = (0, 0, 0.1)  # only \"explode\" the 2nd slice (i.e. 'Hogs')\n",
    "fig1, ax1 = plt.subplots()\n",
    "ax1.pie(sizes, explode=explode, labels=labels, autopct='%1.1f%%',shadow=True, startangle=90)\n",
    "ax1.axis('equal')  # Equal aspect ratio ensures that pie is drawn as a circle.\n",
    "plt.show()"
   ]
  },
  {
   "cell_type": "code",
   "execution_count": null,
   "metadata": {},
   "outputs": [],
   "source": [
    "# Generating data for applying clustering algorithms\n",
    "\n",
    "data_frame = pd.DataFrame(columns=['averageSpending', 'Duration Between Purchases', 'Same Item Over and Over', 'Big Bucket Price'], index=list(map(int, grp.groups.keys())))\n",
    "for key, item in avgSpending.items():\n",
    "    data_frame.ix[key]['averageSpending'] = item\n",
    "for key, item in avgTimeBetweenBuys.items():\n",
    "    data_frame.ix[key]['Duration Between Purchases'] = item\n",
    "for key, item in freqDict.items():\n",
    "    data_frame.ix[key]['Same Item Over and Over'] = item\n",
    "for key, item in percentageOverspent.items():\n",
    "    data_frame.ix[key]['Big Bucket Price'] = item\n",
    "data_frame.fillna(0, inplace=True)"
   ]
  },
  {
   "cell_type": "code",
   "execution_count": null,
   "metadata": {},
   "outputs": [],
   "source": [
    "from sklearn.cluster import Birch\n",
    "from sklearn.cluster import DBSCAN\n",
    "from sklearn.cluster import AgglomerativeClustering\n",
    "from sklearn.cluster import AffinityPropagation\n",
    "from sklearn.cluster import KMeans\n",
    "from sklearn.cluster import MeanShift\n",
    "from sklearn.mixture import GaussianMixture\n",
    "from sklearn.cluster import SpectralClustering"
   ]
  },
  {
   "cell_type": "code",
   "execution_count": null,
   "metadata": {},
   "outputs": [],
   "source": [
    "def print_percentage_of_users_in_clusters(model):\n",
    "    model.fit(data_frame)\n",
    "    try:\n",
    "        yhat = model.predict(data_frame)\n",
    "    except:\n",
    "        yhat = model.fit_predict(data_frame)\n",
    "    clusters = np.unique(yhat)\n",
    "    list1 = []\n",
    "    for cluster in clusters:\n",
    "        row_ix = where(yhat == cluster)\n",
    "        list1.append((len(row_ix[0]) * 100 / total_users))\n",
    "    print(list1)"
   ]
  },
  {
   "cell_type": "code",
   "execution_count": null,
   "metadata": {},
   "outputs": [],
   "source": [
    "# Testing various models with 3 clusters: Low, Medium, and High\n",
    "\n",
    "model = Birch(threshold=0.01, n_clusters=3)\n",
    "print_percentage_of_users_in_clusters(model)\n",
    "\n",
    "model = AgglomerativeClustering(n_clusters=3)\n",
    "print_percentage_of_users_in_clusters(model)\n",
    "\n",
    "model = KMeans(n_clusters=3)\n",
    "print_percentage_of_users_in_clusters(model)"
   ]
  }
 ],
 "metadata": {
  "kernelspec": {
   "display_name": "Python 2",
   "language": "python",
   "name": "python2"
  },
  "language_info": {
   "codemirror_mode": {
    "name": "ipython",
    "version": 2
   },
   "file_extension": ".py",
   "mimetype": "text/x-python",
   "name": "python",
   "nbconvert_exporter": "python",
   "pygments_lexer": "ipython2",
   "version": "2.7.17"
  }
 },
 "nbformat": 4,
 "nbformat_minor": 2
}
